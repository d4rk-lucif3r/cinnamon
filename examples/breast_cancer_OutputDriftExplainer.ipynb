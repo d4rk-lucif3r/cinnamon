{
 "cells": [
  {
   "cell_type": "code",
   "execution_count": null,
   "id": "da27f578",
   "metadata": {},
   "outputs": [],
   "source": [
    "import pandas as pd\n",
    "from sklearn import datasets\n",
    "from sklearn.model_selection import train_test_split\n",
    "from xgboost import XGBClassifier\n",
    "import xgboost as xgb\n",
    "\n",
    "from cinnamon.drift import OutputDriftExplainer"
   ]
  },
  {
   "cell_type": "markdown",
   "id": "2e16e864",
   "metadata": {},
   "source": [
    "# Breast Cancer Data"
   ]
  },
  {
   "cell_type": "code",
   "execution_count": null,
   "id": "f582c773",
   "metadata": {},
   "outputs": [],
   "source": [
    "dataset = datasets.load_breast_cancer()"
   ]
  },
  {
   "cell_type": "code",
   "execution_count": null,
   "id": "b20301d9",
   "metadata": {},
   "outputs": [],
   "source": [
    "X = pd.DataFrame(dataset.data, columns = dataset.feature_names)\n",
    "y = dataset.target"
   ]
  },
  {
   "cell_type": "code",
   "execution_count": null,
   "id": "df4a4c87",
   "metadata": {},
   "outputs": [],
   "source": [
    "X.head()"
   ]
  },
  {
   "cell_type": "markdown",
   "id": "a6ea631c",
   "metadata": {},
   "source": [
    "# Build XGBoost model"
   ]
  },
  {
   "cell_type": "code",
   "execution_count": null,
   "id": "cbf5e852",
   "metadata": {},
   "outputs": [],
   "source": [
    "X_train, X_test, y_train, y_test = train_test_split(X, y, test_size=0.3, random_state=2021)"
   ]
  },
  {
   "cell_type": "code",
   "execution_count": null,
   "id": "9be4d156",
   "metadata": {},
   "outputs": [],
   "source": [
    "clf = XGBClassifier(n_estimators=1000,\n",
    "                    booster=\"gbtree\",\n",
    "                    objective=\"binary:logistic\",\n",
    "                    learning_rate=0.05,\n",
    "                    max_depth=6,\n",
    "                    use_label_encoder=False,\n",
    "                    seed=2021)"
   ]
  },
  {
   "cell_type": "code",
   "execution_count": null,
   "id": "8001d44d",
   "metadata": {},
   "outputs": [],
   "source": [
    "clf.fit(X=X_train, y=y_train, eval_set=[(X_test, y_test)], early_stopping_rounds=20, verbose=10)"
   ]
  },
  {
   "cell_type": "markdown",
   "id": "7b265d66",
   "metadata": {},
   "source": [
    "# Analyze data drift with OutputDriftExplainer\n",
    "\n",
    "The experiment is done with a random split so we should not detect a data drift"
   ]
  },
  {
   "cell_type": "markdown",
   "id": "3da8b162",
   "metadata": {},
   "source": [
    "### prediction_type='proba'"
   ]
  },
  {
   "cell_type": "code",
   "execution_count": null,
   "id": "74f9b603",
   "metadata": {},
   "outputs": [],
   "source": [
    "output_drift_explainer = OutputDriftExplainer(task='classification', prediction_type='proba')"
   ]
  },
  {
   "cell_type": "code",
   "execution_count": null,
   "id": "a865f9ca",
   "metadata": {},
   "outputs": [],
   "source": [
    "clf.predict_proba(X_train)"
   ]
  },
  {
   "cell_type": "code",
   "execution_count": null,
   "id": "32ccdf95",
   "metadata": {},
   "outputs": [],
   "source": [
    "output_drift_explainer.fit(clf.predict_proba(X_train), clf.predict_proba(X_test),\n",
    "                           y_train, y_test)"
   ]
  },
  {
   "cell_type": "code",
   "execution_count": null,
   "id": "bb58e7b4",
   "metadata": {},
   "outputs": [],
   "source": [
    "output_drift_explainer.plot_prediction_drift()\n",
    "output_drift_explainer.get_prediction_drift()"
   ]
  },
  {
   "cell_type": "code",
   "execution_count": null,
   "id": "da37eae4",
   "metadata": {},
   "outputs": [],
   "source": [
    "output_drift_explainer.plot_target_drift()\n",
    "output_drift_explainer.get_target_drift()"
   ]
  },
  {
   "cell_type": "code",
   "execution_count": null,
   "id": "015dfec1",
   "metadata": {},
   "outputs": [],
   "source": [
    "output_drift_explainer.get_performance_metrics_drift()"
   ]
  },
  {
   "cell_type": "code",
   "execution_count": null,
   "id": "da9a4315",
   "metadata": {},
   "outputs": [],
   "source": []
  },
  {
   "cell_type": "markdown",
   "id": "1e5b5850",
   "metadata": {},
   "source": [
    "### prediction_type='label'"
   ]
  },
  {
   "cell_type": "code",
   "execution_count": null,
   "id": "197d7ea4",
   "metadata": {},
   "outputs": [],
   "source": [
    "output_drift_explainer2 = OutputDriftExplainer(task='classification', prediction_type='label')"
   ]
  },
  {
   "cell_type": "code",
   "execution_count": null,
   "id": "48ce3836",
   "metadata": {},
   "outputs": [],
   "source": [
    "output_drift_explainer2.fit(clf.predict(X_train), clf.predict(X_test),\n",
    "                            y_train, y_test)"
   ]
  },
  {
   "cell_type": "code",
   "execution_count": null,
   "id": "e9bacaed",
   "metadata": {},
   "outputs": [],
   "source": [
    "output_drift_explainer2.plot_prediction_drift()\n",
    "output_drift_explainer2.get_prediction_drift()"
   ]
  },
  {
   "cell_type": "code",
   "execution_count": null,
   "id": "7d80440a",
   "metadata": {},
   "outputs": [],
   "source": [
    "output_drift_explainer2.plot_target_drift()\n",
    "output_drift_explainer2.get_target_drift()"
   ]
  },
  {
   "cell_type": "code",
   "execution_count": null,
   "id": "13051c77",
   "metadata": {},
   "outputs": [],
   "source": [
    "output_drift_explainer2.get_performance_metrics_drift()"
   ]
  },
  {
   "cell_type": "markdown",
   "id": "21aaccb4",
   "metadata": {},
   "source": [
    "### prediction_type='raw'"
   ]
  },
  {
   "cell_type": "code",
   "execution_count": null,
   "id": "4df437e4",
   "metadata": {},
   "outputs": [],
   "source": [
    "output_drift_explainer3 = OutputDriftExplainer(task='classification', prediction_type='raw')"
   ]
  },
  {
   "cell_type": "code",
   "execution_count": null,
   "id": "7e7c6fbb",
   "metadata": {},
   "outputs": [],
   "source": [
    "output_drift_explainer3.fit(clf.predict(X_train, output_margin=True), clf.predict(X_test, output_margin=True),\n",
    "                            y_train, y_test)"
   ]
  },
  {
   "cell_type": "code",
   "execution_count": null,
   "id": "a6de8689",
   "metadata": {},
   "outputs": [],
   "source": [
    "output_drift_explainer3.plot_prediction_drift()\n",
    "output_drift_explainer3.get_prediction_drift()"
   ]
  },
  {
   "cell_type": "code",
   "execution_count": null,
   "id": "ea722a0a",
   "metadata": {},
   "outputs": [],
   "source": [
    "output_drift_explainer3.plot_target_drift()\n",
    "output_drift_explainer3.get_target_drift()"
   ]
  },
  {
   "cell_type": "code",
   "execution_count": null,
   "id": "a11bce1c",
   "metadata": {},
   "outputs": [],
   "source": [
    "output_drift_explainer3.get_performance_metrics_drift()"
   ]
  },
  {
   "cell_type": "code",
   "execution_count": null,
   "id": "2a73300c",
   "metadata": {},
   "outputs": [],
   "source": []
  },
  {
   "cell_type": "code",
   "execution_count": null,
   "id": "ca322e8a",
   "metadata": {},
   "outputs": [],
   "source": []
  },
  {
   "cell_type": "code",
   "execution_count": null,
   "id": "3662bd77",
   "metadata": {},
   "outputs": [],
   "source": []
  }
 ],
 "metadata": {
  "kernelspec": {
   "display_name": "Python 3 (ipykernel)",
   "language": "python",
   "name": "python3"
  },
  "language_info": {
   "codemirror_mode": {
    "name": "ipython",
    "version": 3
   },
   "file_extension": ".py",
   "mimetype": "text/x-python",
   "name": "python",
   "nbconvert_exporter": "python",
   "pygments_lexer": "ipython3",
   "version": "3.9.9"
  }
 },
 "nbformat": 4,
 "nbformat_minor": 5
}
