{
 "cells": [
  {
   "cell_type": "code",
   "execution_count": null,
   "id": "ba5dfdb1",
   "metadata": {},
   "outputs": [],
   "source": [
    "import pandas as pd\n",
    "import numpy as np\n",
    "from sklearn import datasets\n",
    "from sklearn.model_selection import train_test_split\n",
    "from xgboost import XGBClassifier\n",
    "\n",
    "from cinnamon.drift import OutputDriftDetector"
   ]
  },
  {
   "cell_type": "markdown",
   "id": "2e16e864",
   "metadata": {},
   "source": [
    "# Iris Data"
   ]
  },
  {
   "cell_type": "code",
   "execution_count": null,
   "id": "f582c773",
   "metadata": {},
   "outputs": [],
   "source": [
    "dataset = datasets.load_iris()"
   ]
  },
  {
   "cell_type": "code",
   "execution_count": null,
   "id": "b20301d9",
   "metadata": {},
   "outputs": [],
   "source": [
    "X = pd.DataFrame(dataset.data, columns = dataset.feature_names)\n",
    "y = dataset.target"
   ]
  },
  {
   "cell_type": "code",
   "execution_count": null,
   "id": "df4a4c87",
   "metadata": {},
   "outputs": [],
   "source": [
    "X.head()"
   ]
  },
  {
   "cell_type": "code",
   "execution_count": null,
   "id": "e69c4f3c",
   "metadata": {},
   "outputs": [],
   "source": [
    "# This is multiclass classification pbm with 3 classes\n",
    "np.unique(y, return_counts=True)"
   ]
  },
  {
   "cell_type": "markdown",
   "id": "a6ea631c",
   "metadata": {},
   "source": [
    "# Build XGBoost model"
   ]
  },
  {
   "cell_type": "code",
   "execution_count": null,
   "id": "cbf5e852",
   "metadata": {},
   "outputs": [],
   "source": [
    "X_train, X_test, y_train, y_test = train_test_split(X, y, test_size=0.3, random_state=2021)"
   ]
  },
  {
   "cell_type": "code",
   "execution_count": null,
   "id": "9be4d156",
   "metadata": {},
   "outputs": [],
   "source": [
    "clf = XGBClassifier(n_estimators=1000,\n",
    "                    booster=\"gbtree\",\n",
    "                    learning_rate=0.05,\n",
    "                    max_depth=6,\n",
    "                    use_label_encoder=False,\n",
    "                    seed=2021)"
   ]
  },
  {
   "cell_type": "code",
   "execution_count": null,
   "id": "8001d44d",
   "metadata": {},
   "outputs": [],
   "source": [
    "clf.fit(X=X_train, y=y_train, eval_set=[(X_test, y_test)], early_stopping_rounds=20, verbose=10)"
   ]
  },
  {
   "cell_type": "markdown",
   "id": "2042fc37",
   "metadata": {},
   "source": [
    "# Analyze data drift with ModelDriftExplainer\n",
    "\n",
    "The experiment is done with a random split so we should not detect a data drift"
   ]
  },
  {
   "cell_type": "markdown",
   "id": "477eb2df",
   "metadata": {},
   "source": [
    "### prediction_type == \"proba\""
   ]
  },
  {
   "cell_type": "code",
   "execution_count": null,
   "id": "a0b2739b",
   "metadata": {},
   "outputs": [],
   "source": [
    "output_drift_detector = OutputDriftDetector(task='classification', prediction_type='proba')"
   ]
  },
  {
   "cell_type": "code",
   "execution_count": null,
   "id": "89a3fef8",
   "metadata": {},
   "outputs": [],
   "source": [
    "output_drift_detector.fit(clf.predict_proba(X_train), clf.predict_proba(X_test), y1=y_train, y2=y_test)"
   ]
  },
  {
   "cell_type": "code",
   "execution_count": null,
   "id": "84b01f28",
   "metadata": {},
   "outputs": [],
   "source": [
    "# no apparent drift in distributions of log-softmax predictions\n",
    "output_drift_detector.plot_prediction_drift()\n",
    "output_drift_detector.get_prediction_drift()"
   ]
  },
  {
   "cell_type": "code",
   "execution_count": null,
   "id": "d1f7d044",
   "metadata": {},
   "outputs": [],
   "source": [
    "output_drift_detector.plot_target_drift()\n",
    "output_drift_detector.get_target_drift()"
   ]
  },
  {
   "cell_type": "code",
   "execution_count": null,
   "id": "e666797a",
   "metadata": {},
   "outputs": [],
   "source": [
    "output_drift_detector.get_performance_metrics_drift()"
   ]
  },
  {
   "cell_type": "code",
   "execution_count": null,
   "id": "1c6cf71c",
   "metadata": {},
   "outputs": [],
   "source": [
    "output_drift_detector.class_names"
   ]
  },
  {
   "cell_type": "markdown",
   "id": "3d7e4e97",
   "metadata": {},
   "source": [
    "### prediction_type == \"label\""
   ]
  },
  {
   "cell_type": "code",
   "execution_count": null,
   "id": "e85b71d9",
   "metadata": {},
   "outputs": [],
   "source": [
    "output_drift_detector2 = OutputDriftDetector(task='classification', prediction_type='label')"
   ]
  },
  {
   "cell_type": "code",
   "execution_count": null,
   "id": "f98d02c8",
   "metadata": {},
   "outputs": [],
   "source": [
    "output_drift_detector2.fit(clf.predict(X_train), clf.predict(X_test),\n",
    "                            y_train, y_test)"
   ]
  },
  {
   "cell_type": "code",
   "execution_count": null,
   "id": "ba395f61",
   "metadata": {},
   "outputs": [],
   "source": [
    "output_drift_detector2.plot_prediction_drift()\n",
    "output_drift_detector2.get_prediction_drift()"
   ]
  },
  {
   "cell_type": "code",
   "execution_count": null,
   "id": "01d187b6",
   "metadata": {},
   "outputs": [],
   "source": [
    "output_drift_detector2.plot_target_drift()\n",
    "output_drift_detector2.get_target_drift()"
   ]
  },
  {
   "cell_type": "code",
   "execution_count": null,
   "id": "c48fea03",
   "metadata": {},
   "outputs": [],
   "source": [
    "output_drift_detector2.get_performance_metrics_drift()"
   ]
  },
  {
   "cell_type": "markdown",
   "id": "d7ce02ee",
   "metadata": {},
   "source": [
    "### prediction_type == \"raw\""
   ]
  },
  {
   "cell_type": "code",
   "execution_count": null,
   "id": "bfadd1e0",
   "metadata": {},
   "outputs": [],
   "source": [
    "output_drift_detector3 = OutputDriftDetector(task='classification', prediction_type='raw')"
   ]
  },
  {
   "cell_type": "code",
   "execution_count": null,
   "id": "18d2bb8f",
   "metadata": {},
   "outputs": [],
   "source": [
    "output_drift_detector3.fit(clf.predict(X_train, output_margin=True), clf.predict(X_test, output_margin=True),\n",
    "                           y1=y_train, y2=y_test)"
   ]
  },
  {
   "cell_type": "code",
   "execution_count": null,
   "id": "6098cf0f",
   "metadata": {},
   "outputs": [],
   "source": [
    "# no apparent drift in distributions of log-softmax predictions\n",
    "output_drift_detector3.plot_prediction_drift()\n",
    "output_drift_detector3.get_prediction_drift()"
   ]
  },
  {
   "cell_type": "code",
   "execution_count": null,
   "id": "757dcfc2",
   "metadata": {},
   "outputs": [],
   "source": [
    "output_drift_detector3.plot_target_drift()\n",
    "output_drift_detector3.get_target_drift()"
   ]
  },
  {
   "cell_type": "code",
   "execution_count": null,
   "id": "86b06e6c",
   "metadata": {},
   "outputs": [],
   "source": [
    "output_drift_detector3.get_performance_metrics_drift()"
   ]
  },
  {
   "cell_type": "code",
   "execution_count": null,
   "id": "d9f7fc3c",
   "metadata": {},
   "outputs": [],
   "source": []
  },
  {
   "cell_type": "code",
   "execution_count": null,
   "id": "59e0f4f5",
   "metadata": {},
   "outputs": [],
   "source": []
  },
  {
   "cell_type": "code",
   "execution_count": null,
   "id": "d8ac178a",
   "metadata": {},
   "outputs": [],
   "source": []
  }
 ],
 "metadata": {
  "kernelspec": {
   "display_name": "Python 3 (ipykernel)",
   "language": "python",
   "name": "python3"
  },
  "language_info": {
   "codemirror_mode": {
    "name": "ipython",
    "version": 3
   },
   "file_extension": ".py",
   "mimetype": "text/x-python",
   "name": "python",
   "nbconvert_exporter": "python",
   "pygments_lexer": "ipython3",
   "version": "3.9.9"
  }
 },
 "nbformat": 4,
 "nbformat_minor": 5
}
